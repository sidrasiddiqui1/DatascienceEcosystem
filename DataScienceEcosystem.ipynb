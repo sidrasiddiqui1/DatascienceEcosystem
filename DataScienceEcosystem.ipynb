{
 "cells": [
  {
   "cell_type": "markdown",
   "id": "01676623-c5ad-4b49-9736-4db22da276fd",
   "metadata": {},
   "source": [
    "Data Science Tools and Ecosystem"
   ]
  },
  {
   "cell_type": "markdown",
   "id": "c4e5cb17-a5f7-4fe1-b98e-4d45f4a95cbc",
   "metadata": {},
   "source": [
    "in this notebook summary of Data science tools and ecosystem is discussed"
   ]
  },
  {
   "cell_type": "markdown",
   "id": "3b5a3e17-a6f2-47c9-b6d9-35def18cd7ab",
   "metadata": {},
   "source": [
    "Objectives:\n",
    "\n",
    "Popular languages in Data Science\n",
    "\n",
    "- Python\n",
    "\n",
    "- R\n",
    "\n",
    "- SQL\n",
    "\n",
    "- Scala\n",
    "\n",
    "- Java \n",
    "\n",
    "- C++\n",
    "\n",
    "- Julia"
   ]
  },
  {
   "cell_type": "markdown",
   "id": "d471f41e-7f19-4ff2-9407-76ab9b189186",
   "metadata": {},
   "source": [
    "Some of the popular languages that Data Scientists use are:"
   ]
  },
  {
   "cell_type": "markdown",
   "id": "027d5345-516f-4275-8c96-c706c40284e2",
   "metadata": {},
   "source": [
    "1- Python"
   ]
  },
  {
   "cell_type": "markdown",
   "id": "109b44db-0918-4c13-92d2-7ff743410e85",
   "metadata": {},
   "source": [
    "2- Rlanguage"
   ]
  },
  {
   "cell_type": "markdown",
   "id": "ea33f0fc-ad97-4e21-bbe4-3f59b1b418d7",
   "metadata": {},
   "source": [
    "3- SQL"
   ]
  },
  {
   "cell_type": "markdown",
   "id": "d0a143eb-89fa-4474-ac11-352c7dfd671b",
   "metadata": {},
   "source": [
    "Some of the commonly used libraries used by Data Scientists include:"
   ]
  },
  {
   "cell_type": "markdown",
   "id": "e3d795f9-a262-4d2f-bd1b-2a0b0bbe2336",
   "metadata": {},
   "source": [
    "1- Scientific Computing Libraries"
   ]
  },
  {
   "cell_type": "markdown",
   "id": "b6077464-9aad-44bb-95a5-1257f3b06ef9",
   "metadata": {},
   "source": [
    "2- Visualization Libraries"
   ]
  },
  {
   "cell_type": "markdown",
   "id": "215e96dc-cf5b-4234-acd7-1d29f59b9699",
   "metadata": {},
   "source": [
    "3- High-Level- Machine Learning and Deep Learning Libraries"
   ]
  },
  {
   "cell_type": "markdown",
   "id": "da8bca08-6401-486f-bd2c-903457317d9a",
   "metadata": {},
   "source": [
    "Data Science Tools\n",
    "\n",
    "1- Jupyter Notebook: Jupyter Notebook is an open-source web application that allows you to create and share documents that contain live code, equations, visualizations, and narrative text. It supports a variety of programming languages including Python, R, Julia, and many others.\n",
    "\n",
    "2- RStudio: RStudio is an open-source integrated development environment (IDE) for the R programming language. It provides an intuitive interface for data analysis, visualization, and manipulation. It also supports version control, debugging, and other essential features for data science.\n",
    "\n",
    "3- Spyder: Spyder is another open-source IDE for scientific computing and data analysis. It is designed specifically for Python and provides features such as code analysis, debugging, and variable exploration. It also includes a variety of built-in libraries and supports integration with external tools like Git and Jupyter Notebook."
   ]
  },
  {
   "cell_type": "markdown",
   "id": "a83f94cd-0904-40fd-b8e7-c297e4ab7bd2",
   "metadata": {},
   "source": [
    "Below are a few examples of evaluating arithmetic expressions in Python"
   ]
  },
  {
   "cell_type": "code",
   "execution_count": 1,
   "id": "efa87d11-78bc-40fe-9199-b67fc1676af7",
   "metadata": {},
   "outputs": [
    {
     "data": {
      "text/plain": [
       "17"
      ]
     },
     "execution_count": 1,
     "metadata": {},
     "output_type": "execute_result"
    }
   ],
   "source": [
    "(3*4)+5"
   ]
  },
  {
   "cell_type": "markdown",
   "id": "207cd4aa-93c5-4dbb-b4e6-2e3591302958",
   "metadata": {},
   "source": [
    "This will convert 200 minutes to hours by diving by 60"
   ]
  },
  {
   "cell_type": "code",
   "execution_count": 2,
   "id": "87285fed-8f4c-45c8-bbe7-9d50627f3a3c",
   "metadata": {},
   "outputs": [
    {
     "data": {
      "text/plain": [
       "3.3333333333333335"
      ]
     },
     "execution_count": 2,
     "metadata": {},
     "output_type": "execute_result"
    }
   ],
   "source": [
    "200/60"
   ]
  },
  {
   "cell_type": "markdown",
   "id": "6b87b36a-ae5f-468b-aa84-663f1388d1fa",
   "metadata": {},
   "source": [
    "Author\n",
    "\n",
    "Sidra Siddiqui"
   ]
  },
  {
   "cell_type": "code",
   "execution_count": null,
   "id": "82565310-7789-47ae-96e5-57ae46a1663e",
   "metadata": {},
   "outputs": [],
   "source": []
  }
 ],
 "metadata": {
  "kernelspec": {
   "display_name": "Python",
   "language": "python",
   "name": "conda-env-python-py"
  },
  "language_info": {
   "codemirror_mode": {
    "name": "ipython",
    "version": 3
   },
   "file_extension": ".py",
   "mimetype": "text/x-python",
   "name": "python",
   "nbconvert_exporter": "python",
   "pygments_lexer": "ipython3",
   "version": "3.7.12"
  }
 },
 "nbformat": 4,
 "nbformat_minor": 5
}
